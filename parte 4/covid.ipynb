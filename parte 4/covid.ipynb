{
 "cells": [
  {
   "cell_type": "markdown",
   "metadata": {},
   "source": [
    "# Laboratorio covid\n",
    "## Cargar datos"
   ]
  },
  {
   "cell_type": "code",
   "execution_count": 10,
   "metadata": {},
   "outputs": [
    {
     "data": {
      "application/vnd.jupyter.widget-view+json": {
       "model_id": "5355e1507dbc4c00b0dd1b53f0e89135",
       "version_major": 2,
       "version_minor": 0
      },
      "text/plain": [
       "VBox()"
      ]
     },
     "metadata": {},
     "output_type": "display_data"
    },
    {
     "data": {
      "application/vnd.jupyter.widget-view+json": {
       "model_id": "",
       "version_major": 2,
       "version_minor": 0
      },
      "text/plain": [
       "FloatProgress(value=0.0, bar_style='info', description='Progress:', layout=Layout(height='25px', width='50%'),…"
      ]
     },
     "metadata": {},
     "output_type": "display_data"
    }
   ],
   "source": [
    "from pyspark.sql.types import StringType,DoubleType,IntegerType, TimestampType"
   ]
  },
  {
   "cell_type": "code",
   "execution_count": 3,
   "metadata": {},
   "outputs": [
    {
     "data": {
      "application/vnd.jupyter.widget-view+json": {
       "model_id": "823dfbcf893f495698c078d8b234ad01",
       "version_major": 2,
       "version_minor": 0
      },
      "text/plain": [
       "VBox()"
      ]
     },
     "metadata": {},
     "output_type": "display_data"
    },
    {
     "data": {
      "application/vnd.jupyter.widget-view+json": {
       "model_id": "",
       "version_major": 2,
       "version_minor": 0
      },
      "text/plain": [
       "FloatProgress(value=0.0, bar_style='info', description='Progress:', layout=Layout(height='25px', width='50%'),…"
      ]
     },
     "metadata": {},
     "output_type": "display_data"
    }
   ],
   "source": [
    "# Load csv Dataset \n",
    "df=spark.read.csv('s3://ljpalaciomdatasets/Casos_positivos_de_COVID-19_en_Colombia.csv',inferSchema=True,header=True)"
   ]
  },
  {
   "cell_type": "code",
   "execution_count": 49,
   "metadata": {},
   "outputs": [
    {
     "data": {
      "application/vnd.jupyter.widget-view+json": {
       "model_id": "7f6e66f8928243a0888351f31077739e",
       "version_major": 2,
       "version_minor": 0
      },
      "text/plain": [
       "VBox()"
      ]
     },
     "metadata": {},
     "output_type": "display_data"
    },
    {
     "data": {
      "application/vnd.jupyter.widget-view+json": {
       "model_id": "",
       "version_major": 2,
       "version_minor": 0
      },
      "text/plain": [
       "FloatProgress(value=0.0, bar_style='info', description='Progress:', layout=Layout(height='25px', width='50%'),…"
      ]
     },
     "metadata": {},
     "output_type": "display_data"
    },
    {
     "name": "stdout",
     "output_type": "stream",
     "text": [
      "root\n",
      " |-- ID de caso: integer (nullable = true)\n",
      " |-- Fecha de notificación: timestamp (nullable = true)\n",
      " |-- Codigo DIVIPOLA: integer (nullable = true)\n",
      " |-- Ciudad de ubicación: string (nullable = true)\n",
      " |-- Departamento o Distrito : string (nullable = true)\n",
      " |-- atención: string (nullable = true)\n",
      " |-- Edad: integer (nullable = true)\n",
      " |-- Sexo: string (nullable = true)\n",
      " |-- Tipo: string (nullable = true)\n",
      " |-- Estado: string (nullable = true)\n",
      " |-- País de procedencia: string (nullable = true)\n",
      " |-- FIS: string (nullable = true)\n",
      " |-- Fecha de muerte: string (nullable = true)\n",
      " |-- Fecha diagnostico: timestamp (nullable = true)\n",
      " |-- Fecha recuperado: string (nullable = true)\n",
      " |-- fecha reporte web: timestamp (nullable = true)"
     ]
    }
   ],
   "source": [
    "df.printSchema()"
   ]
  },
  {
   "cell_type": "markdown",
   "metadata": {},
   "source": [
    "## Borrar y crear algunas columnas\n",
    "* Borré columnas **ID de caso, fecha reporte web, Codigo DIVIPOLA y Fecha de notificación**\n",
    "* Por alguna razón extraña FIS (Fecha de inicio de Síntomas) estaba como un string, así que cambié el tipo a timestamp, ya que la necesitaba para crear una columna.\n",
    "* Creé la columna **Horas entre primeros sintomas y diagnostico**\n",
    "* Creé la columna **Tiene mas de 60**"
   ]
  },
  {
   "cell_type": "code",
   "execution_count": 180,
   "metadata": {},
   "outputs": [
    {
     "data": {
      "application/vnd.jupyter.widget-view+json": {
       "model_id": "5187f27efddd43dab6e3f1f5335f4344",
       "version_major": 2,
       "version_minor": 0
      },
      "text/plain": [
       "VBox()"
      ]
     },
     "metadata": {},
     "output_type": "display_data"
    },
    {
     "data": {
      "application/vnd.jupyter.widget-view+json": {
       "model_id": "",
       "version_major": 2,
       "version_minor": 0
      },
      "text/plain": [
       "FloatProgress(value=0.0, bar_style='info', description='Progress:', layout=Layout(height='25px', width='50%'),…"
      ]
     },
     "metadata": {},
     "output_type": "display_data"
    },
    {
     "name": "stdout",
     "output_type": "stream",
     "text": [
      "['Ciudad de ubicación', 'Departamento o Distrito ', 'atención', 'Edad', 'Sexo', 'Tipo', 'Estado', 'País de procedencia', 'FIS', 'Fecha de muerte', 'Fecha diagnostico', 'Fecha recuperado']"
     ]
    }
   ],
   "source": [
    "#drop column of dataframe\n",
    "df_new=df.drop('ID de caso', 'fecha reporte web', 'Codigo DIVIPOLA', 'Fecha de notificación')\n",
    "df_new.columns"
   ]
  },
  {
   "cell_type": "code",
   "execution_count": 73,
   "metadata": {},
   "outputs": [
    {
     "data": {
      "application/vnd.jupyter.widget-view+json": {
       "model_id": "4ae34d0a17e84d04846ed198a3f71c37",
       "version_major": 2,
       "version_minor": 0
      },
      "text/plain": [
       "VBox()"
      ]
     },
     "metadata": {},
     "output_type": "display_data"
    },
    {
     "data": {
      "application/vnd.jupyter.widget-view+json": {
       "model_id": "",
       "version_major": 2,
       "version_minor": 0
      },
      "text/plain": [
       "FloatProgress(value=0.0, bar_style='info', description='Progress:', layout=Layout(height='25px', width='50%'),…"
      ]
     },
     "metadata": {},
     "output_type": "display_data"
    }
   ],
   "source": [
    "#cast column\n",
    "df_new = df_new.withColumn(\"FIS\",(df_new['FIS'].cast(TimestampType())))"
   ]
  },
  {
   "cell_type": "code",
   "execution_count": 181,
   "metadata": {},
   "outputs": [
    {
     "data": {
      "application/vnd.jupyter.widget-view+json": {
       "model_id": "764736b5d47e400792f5cc509b7d3021",
       "version_major": 2,
       "version_minor": 0
      },
      "text/plain": [
       "VBox()"
      ]
     },
     "metadata": {},
     "output_type": "display_data"
    },
    {
     "data": {
      "application/vnd.jupyter.widget-view+json": {
       "model_id": "",
       "version_major": 2,
       "version_minor": 0
      },
      "text/plain": [
       "FloatProgress(value=0.0, bar_style='info', description='Progress:', layout=Layout(height='25px', width='50%'),…"
      ]
     },
     "metadata": {},
     "output_type": "display_data"
    },
    {
     "name": "stdout",
     "output_type": "stream",
     "text": [
      "+-------------------+--------------------+-------------------------------------------+\n",
      "|  Fecha diagnostico|                 FIS|Horas entre primeros sintomas y diagnostico|\n",
      "+-------------------+--------------------+-------------------------------------------+\n",
      "|2020-03-06 00:00:00|2020-02-27T00:00:...|                                       null|\n",
      "|2020-03-09 00:00:00|2020-03-04T00:00:...|                                       null|\n",
      "|2020-03-09 00:00:00|2020-02-29T00:00:...|                                       null|\n",
      "|2020-03-11 00:00:00|2020-03-06T00:00:...|                                       null|\n",
      "|2020-03-11 00:00:00|2020-03-08T00:00:...|                                       null|\n",
      "+-------------------+--------------------+-------------------------------------------+\n",
      "only showing top 5 rows"
     ]
    }
   ],
   "source": [
    "# New column, Horas entre primeros sintomas y diagnostico\n",
    "df_new = df_new.withColumn(\n",
    "    \"Horas entre primeros sintomas y diagnostico\", \n",
    "    (df_new[\"Fecha diagnostico\"].cast(\"long\") - df_new[\"FIS\"].cast(\"long\"))/3600.\n",
    ")\n",
    "df_new.select(\"Fecha diagnostico\", \"FIS\", \"Horas entre primeros sintomas y diagnostico\").show(5)"
   ]
  },
  {
   "cell_type": "code",
   "execution_count": 183,
   "metadata": {},
   "outputs": [
    {
     "data": {
      "application/vnd.jupyter.widget-view+json": {
       "model_id": "5b3c4ba4a14047ea868199235bc29e4b",
       "version_major": 2,
       "version_minor": 0
      },
      "text/plain": [
       "VBox()"
      ]
     },
     "metadata": {},
     "output_type": "display_data"
    },
    {
     "data": {
      "application/vnd.jupyter.widget-view+json": {
       "model_id": "",
       "version_major": 2,
       "version_minor": 0
      },
      "text/plain": [
       "FloatProgress(value=0.0, bar_style='info', description='Progress:', layout=Layout(height='25px', width='50%'),…"
      ]
     },
     "metadata": {},
     "output_type": "display_data"
    },
    {
     "name": "stdout",
     "output_type": "stream",
     "text": [
      "+----+---------------+\n",
      "|Edad|Tiene mas de 60|\n",
      "+----+---------------+\n",
      "|  19|          false|\n",
      "|  34|          false|\n",
      "|  50|          false|\n",
      "|  55|          false|\n",
      "|  25|          false|\n",
      "|  27|          false|\n",
      "|  85|           true|\n",
      "|  22|          false|\n",
      "|  28|          false|\n",
      "|  36|          false|\n",
      "+----+---------------+\n",
      "only showing top 10 rows"
     ]
    }
   ],
   "source": [
    "# New column tiene mas de 60\n",
    "df_new =df_new.withColumn(\"Tiene mas de 60\", df_new[\"Edad\"] > 60)\n",
    "df_new.select(\"Edad\", \"Tiene mas de 60\").show(10)"
   ]
  },
  {
   "cell_type": "markdown",
   "metadata": {},
   "source": [
    "## Realizar filtrados de datos por alguna información que le parezca interesante\n",
    "\n",
    "* El primer filtro consiste en ver los menores de edad que están en grave estado de salud o que han fallecido. Se observa que lamentablemente hay bebés que han fallecido y los otros menores están en cuidados intensivos.\n",
    "* El segundo filtro consiste en ver los casos del virus procedentes de otros países. Se puede observar que son bastantes"
   ]
  },
  {
   "cell_type": "code",
   "execution_count": 184,
   "metadata": {},
   "outputs": [
    {
     "data": {
      "application/vnd.jupyter.widget-view+json": {
       "model_id": "3927579211f44b0ea46b94107e2734c2",
       "version_major": 2,
       "version_minor": 0
      },
      "text/plain": [
       "VBox()"
      ]
     },
     "metadata": {},
     "output_type": "display_data"
    },
    {
     "data": {
      "application/vnd.jupyter.widget-view+json": {
       "model_id": "",
       "version_major": 2,
       "version_minor": 0
      },
      "text/plain": [
       "FloatProgress(value=0.0, bar_style='info', description='Progress:', layout=Layout(height='25px', width='50%'),…"
      ]
     },
     "metadata": {},
     "output_type": "display_data"
    },
    {
     "name": "stdout",
     "output_type": "stream",
     "text": [
      "+------------+\n",
      "|    atención|\n",
      "+------------+\n",
      "|        CASA|\n",
      "|Hospital UCI|\n",
      "|   Fallecido|\n",
      "|        Casa|\n",
      "|    Hospital|\n",
      "|         N/A|\n",
      "|        casa|\n",
      "|  Recuperado|\n",
      "+------------+"
     ]
    }
   ],
   "source": [
    "#Distinct Values in a column\n",
    "df_new.select('atención').distinct().show()"
   ]
  },
  {
   "cell_type": "code",
   "execution_count": 100,
   "metadata": {},
   "outputs": [
    {
     "data": {
      "application/vnd.jupyter.widget-view+json": {
       "model_id": "f775f81d5a5f43a48e972b714979abe3",
       "version_major": 2,
       "version_minor": 0
      },
      "text/plain": [
       "VBox()"
      ]
     },
     "metadata": {},
     "output_type": "display_data"
    },
    {
     "data": {
      "application/vnd.jupyter.widget-view+json": {
       "model_id": "",
       "version_major": 2,
       "version_minor": 0
      },
      "text/plain": [
       "FloatProgress(value=0.0, bar_style='info', description='Progress:', layout=Layout(height='25px', width='50%'),…"
      ]
     },
     "metadata": {},
     "output_type": "display_data"
    },
    {
     "name": "stdout",
     "output_type": "stream",
     "text": [
      "+---------+\n",
      "|   estado|\n",
      "+---------+\n",
      "|Fallecido|\n",
      "| Moderado|\n",
      "|      N/A|\n",
      "|     leve|\n",
      "|     Leve|\n",
      "|    Grave|\n",
      "+---------+"
     ]
    }
   ],
   "source": [
    "#Distinct Values in a column\n",
    "df_new.select('estado').distinct().show()"
   ]
  },
  {
   "cell_type": "code",
   "execution_count": 188,
   "metadata": {},
   "outputs": [
    {
     "data": {
      "application/vnd.jupyter.widget-view+json": {
       "model_id": "d7e41fd4e1cf4dbdb766011e4991a03b",
       "version_major": 2,
       "version_minor": 0
      },
      "text/plain": [
       "VBox()"
      ]
     },
     "metadata": {},
     "output_type": "display_data"
    },
    {
     "data": {
      "application/vnd.jupyter.widget-view+json": {
       "model_id": "",
       "version_major": 2,
       "version_minor": 0
      },
      "text/plain": [
       "FloatProgress(value=0.0, bar_style='info', description='Progress:', layout=Layout(height='25px', width='50%'),…"
      ]
     },
     "metadata": {},
     "output_type": "display_data"
    },
    {
     "name": "stdout",
     "output_type": "stream",
     "text": [
      "+----+------------+---------+-------------------+----+-------------------+-------------------+\n",
      "|Edad|    atención|   estado|Ciudad de ubicación|Sexo|  Fecha diagnostico|País de procedencia|\n",
      "+----+------------+---------+-------------------+----+-------------------+-------------------+\n",
      "|   1|   Fallecido|Fallecido|             Samacá|   F|2020-05-01 00:00:00|           Colombia|\n",
      "|   1|   Fallecido|Fallecido|       Cundinamarca|   M|2020-04-20 00:00:00|           Colombia|\n",
      "|   3|   Fallecido|Fallecido|            Popayán|   F|2020-04-06 00:00:00|           Colombia|\n",
      "|  12|Hospital UCI|    Grave|        Bogotá D.C.|   F|2020-05-01 00:00:00|           Colombia|\n",
      "|  13|Hospital UCI|    Grave|        Bogotá D.C.|   M|2020-04-24 00:00:00|           Colombia|\n",
      "|  18|Hospital UCI|    Grave|               Cali|   F|2020-04-19 00:00:00|           Colombia|\n",
      "+----+------------+---------+-------------------+----+-------------------+-------------------+"
     ]
    }
   ],
   "source": [
    "filter1 = df_new.filter((df_new[\"estado\"] == \"Grave\") | (df_new[\"estado\"] == \"Fallecido\")).filter(\n",
    "    df_new[\"Edad\"] <= 18\n",
    ").select(\n",
    "    \"Edad\", \"atención\", \"estado\",  \"Ciudad de ubicación\", \"Sexo\", \"Fecha diagnostico\", \"País de procedencia\"\n",
    ").orderBy(\"Edad\")\n",
    "filter1.show()"
   ]
  },
  {
   "cell_type": "code",
   "execution_count": 189,
   "metadata": {},
   "outputs": [
    {
     "data": {
      "application/vnd.jupyter.widget-view+json": {
       "model_id": "67b663cee9734cec8784fa7f2adb96cd",
       "version_major": 2,
       "version_minor": 0
      },
      "text/plain": [
       "VBox()"
      ]
     },
     "metadata": {},
     "output_type": "display_data"
    },
    {
     "data": {
      "application/vnd.jupyter.widget-view+json": {
       "model_id": "",
       "version_major": 2,
       "version_minor": 0
      },
      "text/plain": [
       "FloatProgress(value=0.0, bar_style='info', description='Progress:', layout=Layout(height='25px', width='50%'),…"
      ]
     },
     "metadata": {},
     "output_type": "display_data"
    },
    {
     "name": "stdout",
     "output_type": "stream",
     "text": [
      "+----+------------+------+-------------------+----+-------------------+--------------------+\n",
      "|Edad|    atención|estado|Ciudad de ubicación|Sexo|  Fecha diagnostico| País de procedencia|\n",
      "+----+------------+------+-------------------+----+-------------------+--------------------+\n",
      "|  15|  Recuperado|  Leve|           Medellín|   F|2020-04-07 00:00:00|Estados Unidos de...|\n",
      "|  21|  Recuperado|  Leve|           Medellín|   F|2020-03-23 00:00:00|              España|\n",
      "|  21|  Recuperado|  Leve|           Medellín|   M|2020-03-23 00:00:00|Estados Unidos de...|\n",
      "|  21|  Recuperado|  Leve|           Medellín|   F|2020-03-23 00:00:00|              España|\n",
      "|  22|  Recuperado|  Leve|           Medellín|   F|2020-03-20 00:00:00|              España|\n",
      "|  23|        Casa|  Leve|           Medellín|   F|2020-04-03 00:00:00|             Turquía|\n",
      "|  24|        Casa|  Leve|           Medellín|   F|2020-03-28 00:00:00|Estados Unidos de...|\n",
      "|  24|  Recuperado|  Leve|           Medellín|   F|2020-03-29 00:00:00|              España|\n",
      "|  25|  Recuperado|  Leve|           Medellín|   M|2020-03-30 00:00:00|         Reino Unido|\n",
      "|  26|  Recuperado|  Leve|           Medellín|   M|2020-04-03 00:00:00|Estados Unidos de...|\n",
      "|  26|        Casa|  Leve|           Medellín|   M|2020-04-13 00:00:00|              España|\n",
      "|  27|  Recuperado|  Leve|           Medellín|   F|2020-03-28 00:00:00|Estados Unidos de...|\n",
      "|  30|  Recuperado|  Leve|           Medellín|   F|2020-04-02 00:00:00|              España|\n",
      "|  30|  Recuperado|  Leve|           Medellín|   F|2020-04-08 00:00:00|Estados Unidos de...|\n",
      "|  30|  Recuperado|  Leve|           Medellín|   F|2020-03-23 00:00:00|Estados Unidos de...|\n",
      "|  30|  Recuperado|  Leve|           Medellín|   F|2020-03-23 00:00:00|             Ecuador|\n",
      "|  30|  Recuperado|  Leve|           Medellín|   F|2020-04-08 00:00:00|              España|\n",
      "|  30|Hospital UCI| Grave|           Medellín|   M|2020-03-23 00:00:00|Estados Unidos de...|\n",
      "|  30|        Casa|  Leve|           Medellín|   M|2020-04-08 00:00:00|              España|\n",
      "|  31|  Recuperado|  Leve|           Medellín|   F|2020-04-07 00:00:00|              Panamá|\n",
      "+----+------------+------+-------------------+----+-------------------+--------------------+\n",
      "only showing top 20 rows"
     ]
    }
   ],
   "source": [
    "filter2 = df_new.filter(\n",
    "   (df_new[\"Ciudad de ubicación\"] == \"Medellín\") & (df_new[\"Tipo\"] == \"Importado\")\n",
    ").select(\n",
    "    \"Edad\", \"atención\", \"estado\",  \"Ciudad de ubicación\", \"Sexo\", \"Fecha diagnostico\", \"País de procedencia\"\n",
    ").orderBy(\"Edad\")\n",
    "filter2.show()"
   ]
  },
  {
   "cell_type": "markdown",
   "metadata": {},
   "source": [
    "# Realizar alguna agrupación y consulta de datos categorica, por ejemplo número de casos por región o por sexo/genero.\n",
    "## Mostré el número de casos graves por Departamento "
   ]
  },
  {
   "cell_type": "code",
   "execution_count": 190,
   "metadata": {},
   "outputs": [
    {
     "data": {
      "application/vnd.jupyter.widget-view+json": {
       "model_id": "98bc1880ff97445e8c932e792c0d88a9",
       "version_major": 2,
       "version_minor": 0
      },
      "text/plain": [
       "VBox()"
      ]
     },
     "metadata": {},
     "output_type": "display_data"
    },
    {
     "data": {
      "application/vnd.jupyter.widget-view+json": {
       "model_id": "",
       "version_major": 2,
       "version_minor": 0
      },
      "text/plain": [
       "FloatProgress(value=0.0, bar_style='info', description='Progress:', layout=Layout(height='25px', width='50%'),…"
      ]
     },
     "metadata": {},
     "output_type": "display_data"
    },
    {
     "name": "stdout",
     "output_type": "stream",
     "text": [
      "+------------------------+------+-----+\n",
      "|Departamento o Distrito |estado|count|\n",
      "+------------------------+------+-----+\n",
      "|             Bogotá D.C.| Grave|   39|\n",
      "|         Valle del Cauca| Grave|   36|\n",
      "|               Antioquia| Grave|   12|\n",
      "|     Cartagena D.T. y C.| Grave|    6|\n",
      "|               Atlántico| Grave|    4|\n",
      "|                  Nariño| Grave|    4|\n",
      "|                   Huila| Grave|    3|\n",
      "|       Barranquilla D.E.| Grave|    3|\n",
      "|               Risaralda| Grave|    2|\n",
      "|                   Cesar| Grave|    2|\n",
      "|       Buenaventura D.E.| Grave|    2|\n",
      "|                  Tolima| Grave|    1|\n",
      "|                    Meta| Grave|    1|\n",
      "|    Santa Marta D.T. ...| Grave|    1|\n",
      "|                 Bolívar| Grave|    1|\n",
      "|              La Guajira| Grave|    1|\n",
      "|      Norte de Santander| Grave|    1|\n",
      "|            Cundinamarca| Grave|    1|\n",
      "+------------------------+------+-----+"
     ]
    }
   ],
   "source": [
    "# Value counts\n",
    "group = df_new.filter(df_new[\"estado\"] == \"Grave\").select(\n",
    "    \"Edad\", \"atención\", \"estado\",  \"Ciudad de ubicación\", \"Sexo\", \"Fecha diagnostico\", \"País de procedencia\", 'Departamento o Distrito '\n",
    ").groupBy('Departamento o Distrito ', \"estado\").count().orderBy('count', ascending=False)\n",
    "group.show()"
   ]
  },
  {
   "cell_type": "code",
   "execution_count": 193,
   "metadata": {},
   "outputs": [
    {
     "data": {
      "application/vnd.jupyter.widget-view+json": {
       "model_id": "b61f266e494346708a059fdf078ac283",
       "version_major": 2,
       "version_minor": 0
      },
      "text/plain": [
       "VBox()"
      ]
     },
     "metadata": {},
     "output_type": "display_data"
    },
    {
     "data": {
      "application/vnd.jupyter.widget-view+json": {
       "model_id": "",
       "version_major": 2,
       "version_minor": 0
      },
      "text/plain": [
       "FloatProgress(value=0.0, bar_style='info', description='Progress:', layout=Layout(height='25px', width='50%'),…"
      ]
     },
     "metadata": {},
     "output_type": "display_data"
    }
   ],
   "source": [
    "#save the dataframe as single csv\n",
    "base_url = \"s3://ljpalaciomdatasets/covid\"\n",
    "# write data\n",
    "df_new.coalesce(1).write.format(\"csv\").option(\"header\",\"true\").save(base_url + \"/df_new\")\n",
    "filter1.coalesce(1).write.format(\"csv\").option(\"header\",\"true\").save(base_url + \"/filter1\")\n",
    "filter2.coalesce(1).write.format(\"csv\").option(\"header\",\"true\").save(base_url + \"/filter2\")\n",
    "group.coalesce(1).write.format(\"csv\").option(\"header\",\"true\").save(base_url + \"/group\")"
   ]
  }
 ],
 "metadata": {
  "kernelspec": {
   "display_name": "PySpark",
   "language": "",
   "name": "pysparkkernel"
  },
  "language_info": {
   "codemirror_mode": {
    "name": "python",
    "version": 2
   },
   "mimetype": "text/x-python",
   "name": "pyspark",
   "pygments_lexer": "python2"
  }
 },
 "nbformat": 4,
 "nbformat_minor": 4
}
